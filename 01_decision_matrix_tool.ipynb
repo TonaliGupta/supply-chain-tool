{
 "cells": [
  {
   "cell_type": "code",
   "execution_count": 1,
   "id": "feddf440-8fed-48b0-91a9-d284e20a851f",
   "metadata": {},
   "outputs": [],
   "source": [
    "# =====================================\n",
    "# Sustainable Supply Chain Decision Tool\n",
    "# =====================================\n",
    "\n",
    "# -----------------------------\n",
    "# 1. Import libraries and module\n",
    "# -----------------------------\n",
    "import pandas as pd\n",
    "import numpy as np\n",
    "import itertools\n",
    "import matplotlib.pyplot as plt\n",
    "from sklearn.preprocessing import StandardScaler\n",
    "from sklearn.cluster import KMeans\n",
    "\n",
    "# Add project root to Python path\n",
    "import sys, os\n",
    "sys.path.append(os.path.abspath(\"..\"))\n",
    "\n",
    "from src.decision_matrix import (\n",
    "    calculate_weighted_score,\n",
    "    monte_carlo_simulation,\n",
    "    recommend_suppliers,\n",
    "    plot_mc_boxplot,\n",
    "    plot_mc_histogram,\n",
    "    normalize_min_max\n",
    ")\n"
   ]
  },
  {
   "cell_type": "code",
   "execution_count": 2,
   "id": "928f03e0-a65e-4173-b7fe-a280efa7031c",
   "metadata": {},
   "outputs": [
    {
     "name": "stdout",
     "output_type": "stream",
     "text": [
      "Supplier data loaded:\n"
     ]
    },
    {
     "data": {
      "text/html": [
       "<div>\n",
       "<style scoped>\n",
       "    .dataframe tbody tr th:only-of-type {\n",
       "        vertical-align: middle;\n",
       "    }\n",
       "\n",
       "    .dataframe tbody tr th {\n",
       "        vertical-align: top;\n",
       "    }\n",
       "\n",
       "    .dataframe thead th {\n",
       "        text-align: right;\n",
       "    }\n",
       "</style>\n",
       "<table border=\"1\" class=\"dataframe\">\n",
       "  <thead>\n",
       "    <tr style=\"text-align: right;\">\n",
       "      <th></th>\n",
       "      <th>SupplierID</th>\n",
       "      <th>Cost_per_unit</th>\n",
       "      <th>Delivery_time_days</th>\n",
       "      <th>Carbon_kgCO2e</th>\n",
       "      <th>QualityRating</th>\n",
       "      <th>ComplianceScore</th>\n",
       "    </tr>\n",
       "  </thead>\n",
       "  <tbody>\n",
       "    <tr>\n",
       "      <th>0</th>\n",
       "      <td>S1</td>\n",
       "      <td>24.98</td>\n",
       "      <td>8</td>\n",
       "      <td>18.69</td>\n",
       "      <td>6.8</td>\n",
       "      <td>79.1</td>\n",
       "    </tr>\n",
       "    <tr>\n",
       "      <th>1</th>\n",
       "      <td>S2</td>\n",
       "      <td>48.03</td>\n",
       "      <td>7</td>\n",
       "      <td>28.61</td>\n",
       "      <td>8.1</td>\n",
       "      <td>72.9</td>\n",
       "    </tr>\n",
       "    <tr>\n",
       "      <th>2</th>\n",
       "      <td>S3</td>\n",
       "      <td>39.28</td>\n",
       "      <td>4</td>\n",
       "      <td>24.44</td>\n",
       "      <td>8.4</td>\n",
       "      <td>90.5</td>\n",
       "    </tr>\n",
       "    <tr>\n",
       "      <th>3</th>\n",
       "      <td>S4</td>\n",
       "      <td>33.95</td>\n",
       "      <td>10</td>\n",
       "      <td>18.11</td>\n",
       "      <td>6.2</td>\n",
       "      <td>83.2</td>\n",
       "    </tr>\n",
       "    <tr>\n",
       "      <th>4</th>\n",
       "      <td>S5</td>\n",
       "      <td>16.24</td>\n",
       "      <td>14</td>\n",
       "      <td>32.53</td>\n",
       "      <td>8.4</td>\n",
       "      <td>73.7</td>\n",
       "    </tr>\n",
       "  </tbody>\n",
       "</table>\n",
       "</div>"
      ],
      "text/plain": [
       "  SupplierID  Cost_per_unit  Delivery_time_days  Carbon_kgCO2e  QualityRating  \\\n",
       "0         S1          24.98                   8          18.69            6.8   \n",
       "1         S2          48.03                   7          28.61            8.1   \n",
       "2         S3          39.28                   4          24.44            8.4   \n",
       "3         S4          33.95                  10          18.11            6.2   \n",
       "4         S5          16.24                  14          32.53            8.4   \n",
       "\n",
       "   ComplianceScore  \n",
       "0             79.1  \n",
       "1             72.9  \n",
       "2             90.5  \n",
       "3             83.2  \n",
       "4             73.7  "
      ]
     },
     "execution_count": 2,
     "metadata": {},
     "output_type": "execute_result"
    }
   ],
   "source": [
    "# -----------------------------\n",
    "# 2. Load supplier data\n",
    "# -----------------------------\n",
    "df = pd.read_csv(\"../data/suppliers.csv\")  # adjust path\n",
    "print(\"Supplier data loaded:\")\n",
    "df.head()\n"
   ]
  },
  {
   "cell_type": "code",
   "execution_count": 3,
   "id": "8a3a543b-e553-4d5b-a1f2-907b4f05a5bb",
   "metadata": {},
   "outputs": [],
   "source": [
    "# -----------------------------\n",
    "# 3. Define normalization for metrics\n",
    "# -----------------------------\n",
    "normalize_cols = {\n",
    "    \"Cost_per_unit\": False,          # lower is better\n",
    "    \"Delivery_time_days\": False,     # lower is better\n",
    "    \"Carbon_kgCO2e\": False,          # lower is better\n",
    "    \"QualityRating\": True,           # higher is better\n",
    "    \"ComplianceScore\": True          # higher is better\n",
    "}\n",
    "\n",
    "metrics = list(normalize_cols.keys())\n"
   ]
  },
  {
   "cell_type": "code",
   "execution_count": 4,
   "id": "c6c80554-d235-4db0-8932-a07cb2541847",
   "metadata": {},
   "outputs": [
    {
     "name": "stdout",
     "output_type": "stream",
     "text": [
      "Choose weight option:\n",
      "1: Manually enter weights (from weights.csv)\n",
      "2: Use suggested optimal weights (calculated automatically)\n"
     ]
    },
    {
     "name": "stdin",
     "output_type": "stream",
     "text": [
      "Enter 1 or 2:  2\n"
     ]
    }
   ],
   "source": [
    "print(\"Choose weight option:\")\n",
    "print(\"1: Manually enter weights (from weights.csv)\")\n",
    "print(\"2: Use suggested optimal weights (calculated automatically)\")\n",
    "\n",
    "weight_choice = input(\"Enter 1 or 2: \").strip()\n"
   ]
  },
  {
   "cell_type": "code",
   "execution_count": null,
   "id": "973e9364-5c64-422e-9587-e021010c2e04",
   "metadata": {},
   "outputs": [
    {
     "name": "stdout",
     "output_type": "stream",
     "text": [
      "Calculating suggested optimal weights...\n"
     ]
    }
   ],
   "source": [
    "if weight_choice == \"1\":\n",
    "    # Load weights from CSV\n",
    "    weights_df = pd.read_csv(\"../data/weights.csv\")\n",
    "    weights_dynamic = dict(zip(weights_df['Metric'], weights_df['Weight']))\n",
    "    print(\"Using manual weights from weights.csv:\")\n",
    "    print(weights_dynamic)\n",
    "elif weight_choice == \"2\":\n",
    "    print(\"Calculating suggested optimal weights...\")\n",
    "\n",
    "    increments = [0.0, 0.1, 0.2, 0.3, 0.4, 0.5]  # grid increments\n",
    "    possible_weights = [w for w in itertools.product(increments, repeat=len(metrics)) if abs(sum(w)-1.0)<1e-5]\n",
    "\n",
    "    best_score = -np.inf\n",
    "    best_weights = None\n",
    "\n",
    "    for w in possible_weights:\n",
    "        trial_weights = dict(zip(metrics, w))\n",
    "        df_weighted = calculate_weighted_score(df.copy(), trial_weights, normalize_cols)\n",
    "        df_mc, mc_results_trial = monte_carlo_simulation(df_weighted, trial_weights, normalize_cols)\n",
    "        top_mean = df_mc[\"MC_MeanScore\"].max()\n",
    "        if top_mean > best_score:\n",
    "            best_score = top_mean\n",
    "            best_weights = trial_weights\n",
    "\n",
    "    weights_dynamic = best_weights\n",
    "    print(\"Suggested optimal weights:\")\n",
    "    print(weights_dynamic)\n"
   ]
  },
  {
   "cell_type": "code",
   "execution_count": null,
   "id": "1f845db2-c557-458a-9136-8f7e2937b30f",
   "metadata": {},
   "outputs": [],
   "source": [
    "# Weighted scores\n",
    "df_weighted = calculate_weighted_score(df.copy(), weights_dynamic, normalize_cols)\n",
    "\n",
    "# Monte Carlo simulation\n",
    "df_mc, mc_results_dynamic = monte_carlo_simulation(df_weighted, weights_dynamic, normalize_cols)\n",
    "\n",
    "# Display top 3 suppliers by Monte Carlo mean score\n",
    "top_3 = recommend_suppliers(df_mc, top_n=3)\n",
    "print(\"\\nTop 3 Supplier Recommendations:\")\n",
    "top_3\n"
   ]
  },
  {
   "cell_type": "code",
   "execution_count": null,
   "id": "5f100ca5-8913-4bb4-bdd1-944c3cb93f66",
   "metadata": {},
   "outputs": [],
   "source": [
    "# Normalize numeric columns for clustering\n",
    "scaler = StandardScaler()\n",
    "df_scaled = scaler.fit_transform(df[norm_cols := list(normalize_cols.keys())])\n",
    "\n",
    "# KMeans clustering\n",
    "kmeans = KMeans(n_clusters=3, random_state=42)\n",
    "df['Cluster'] = kmeans.fit_predict(df_scaled)\n",
    "\n",
    "print(\"\\nSuppliers with cluster assignment:\")\n",
    "df[['SupplierID', 'Cluster'] + norm_cols]\n",
    "\n",
    "# Optional: visualize first 2 metrics\n",
    "plt.figure(figsize=(8,5))\n",
    "for c in df['Cluster'].unique():\n",
    "    subset = df[df['Cluster']==c]\n",
    "    plt.scatter(subset['Cost_per_unit'], subset['Delivery_time_days'], label=f'Cluster {c}')\n",
    "plt.xlabel('Cost_per_unit')\n",
    "plt.ylabel('Delivery_time_days')\n",
    "plt.legend()\n",
    "plt.title('Supplier Clusters')\n",
    "plt.show()\n"
   ]
  },
  {
   "cell_type": "code",
   "execution_count": null,
   "id": "8529456d-73d8-4241-aea5-f00d13fe6d2b",
   "metadata": {},
   "outputs": [],
   "source": [
    "# Boxplot for all suppliers\n",
    "plot_mc_boxplot(df_mc, mc_results_dynamic)\n",
    "\n",
    "# Histogram for top supplier\n",
    "top_idx = df_mc[\"MC_MeanScore\"].idxmax()\n",
    "plot_mc_histogram(mc_results_dynamic, df_mc, supplier_idx=top_idx)\n"
   ]
  },
  {
   "cell_type": "code",
   "execution_count": null,
   "id": "680b057b-653e-4a35-a660-efe748e4e277",
   "metadata": {},
   "outputs": [],
   "source": []
  }
 ],
 "metadata": {
  "kernelspec": {
   "display_name": "Python 3 (ipykernel)",
   "language": "python",
   "name": "python3"
  },
  "language_info": {
   "codemirror_mode": {
    "name": "ipython",
    "version": 3
   },
   "file_extension": ".py",
   "mimetype": "text/x-python",
   "name": "python",
   "nbconvert_exporter": "python",
   "pygments_lexer": "ipython3",
   "version": "3.11.7"
  }
 },
 "nbformat": 4,
 "nbformat_minor": 5
}
